{
 "cells": [
  {
   "cell_type": "markdown",
   "metadata": {},
   "source": [
    "class :- 1. blue print \n",
    "         2. user defied datatype"
   ]
  },
  {
   "cell_type": "code",
   "execution_count": 120,
   "metadata": {},
   "outputs": [],
   "source": [
    "class College:\n",
    "    # properties\n",
    "    # class variables\n",
    "    college_name = \"Piet\"\n",
    "    college_city = \"Jaipur\" \n",
    "\n",
    "    # instance variables constructor\n",
    "    # it is kind of special function, and which used to initialized the variables\n",
    "    # you will not be need to call the constructor,\n",
    "    #constructor executes automatically when you will create an object.\n",
    "    \n",
    "    def __init__(self,cs_hod,ec_hod,e_hod):  # self = default, it reference to your object(self == object)\n",
    "        # instance variables\n",
    "        self.cse_hod = cs_hod\n",
    "        self.ece_hod = ec_hod\n",
    "        self.electrical_hod = e_hod \n",
    "        self.student_marks = [25,35,45,55,65,75,85,29,46]\n",
    "        print('constructor called !')\n",
    "\n",
    "# self --> pointer\n",
    "\n",
    "    def display(self):\n",
    "        print('My college name: ',self.college_name)\n",
    "        print(\"My cse hod: \",self.cse_hod)\n",
    "        print(\"My college city: \",self.college_city)\n",
    "\n",
    "    def average(self):\n",
    "        marks = self.student_marks\n",
    "        total_sum = 0\n",
    "        count = 0\n",
    "        for item in marks:\n",
    "            total_sum += item\n",
    "            count += 1\n",
    "        print(total_sum/count)"
   ]
  },
  {
   "cell_type": "markdown",
   "metadata": {},
   "source": [
    "object or instance"
   ]
  },
  {
   "cell_type": "code",
   "execution_count": 122,
   "metadata": {},
   "outputs": [
    {
     "name": "stdout",
     "output_type": "stream",
     "text": [
      "constructor called !\n",
      "Piet\n"
     ]
    }
   ],
   "source": [
    "obj2 = College('cs_hod', 'ec_hod', 'e_hod')         # variable access by object...\n",
    "print(obj2.college_name)\n",
    "\n",
    "#print(College.college_city)     # variable access by class\n",
    "#print(College.college_name)"
   ]
  },
  {
   "cell_type": "code",
   "execution_count": 94,
   "metadata": {},
   "outputs": [
    {
     "name": "stdout",
     "output_type": "stream",
     "text": [
      "constructor called !\n",
      "constructor called !\n"
     ]
    }
   ],
   "source": [
    "# College.cse_hod\n",
    "obj = College(cs_hod = 'Maonj sharma',ec_hod ='uday pratap',e_hod = 'rahul trivedi')\n",
    "obj1 = College(cs_hod = 'harish sharma',ec_hod ='abhishek pratap',e_hod = 'hariom trivedi')"
   ]
  },
  {
   "cell_type": "code",
   "execution_count": 95,
   "metadata": {},
   "outputs": [
    {
     "data": {
      "text/plain": [
       "'uday pratap'"
      ]
     },
     "execution_count": 95,
     "metadata": {},
     "output_type": "execute_result"
    }
   ],
   "source": [
    "# object.variable_name\n",
    "obj.ece_hod"
   ]
  },
  {
   "cell_type": "code",
   "execution_count": 96,
   "metadata": {},
   "outputs": [
    {
     "name": "stdout",
     "output_type": "stream",
     "text": [
      "My college name:  Piet\n",
      "My cse hod:  Maonj sharma\n",
      "My college city:  Jaipur\n",
      "\n",
      "My college name:  Piet\n",
      "My cse hod:  harish sharma\n",
      "My college city:  Jaipur\n"
     ]
    }
   ],
   "source": [
    "obj.display()\n",
    "print()\n",
    "obj1.display()"
   ]
  },
  {
   "cell_type": "code",
   "execution_count": 97,
   "metadata": {},
   "outputs": [
    {
     "name": "stdout",
     "output_type": "stream",
     "text": [
      "51.111111111111114\n"
     ]
    }
   ],
   "source": [
    "obj1.average()"
   ]
  },
  {
   "cell_type": "code",
   "execution_count": 5,
   "metadata": {},
   "outputs": [],
   "source": [
    "class Hello:\n",
    "    def __init__(self):\n",
    "        self.random_number = [23,45,65,76,54,87,78,34,98,89,63,21,31,41,51]\n",
    "\n",
    "    def even_odd_counter(self):\n",
    "        number = self.random_number\n",
    "        count = 0\n",
    "        for i in number:\n",
    "            if i % 2 == 0:\n",
    "                count += 1\n",
    "        print(count)\n",
    "        for i in number:\n",
    "            if(i % 2 != 0):\n",
    "                count += 1\n",
    "        print(count)\n",
    "\n",
    "    def even_average(self):\n",
    "        number = self.random_number\n",
    "        count = 0\n",
    "        sum = 0\n",
    "        for i in number:\n",
    "            if i % 2 == 0:\n",
    "                sum += i\n",
    "                count += 1\n",
    "        print(round(sum/count,2))"
   ]
  },
  {
   "cell_type": "code",
   "execution_count": 6,
   "metadata": {},
   "outputs": [
    {
     "name": "stdout",
     "output_type": "stream",
     "text": [
      "5\n",
      "15\n"
     ]
    }
   ],
   "source": [
    "obje = Hello()\n",
    "obje.even_odd_counter()"
   ]
  }
 ],
 "metadata": {
  "kernelspec": {
   "display_name": "Python 3",
   "language": "python",
   "name": "python3"
  },
  "language_info": {
   "codemirror_mode": {
    "name": "ipython",
    "version": 3
   },
   "file_extension": ".py",
   "mimetype": "text/x-python",
   "name": "python",
   "nbconvert_exporter": "python",
   "pygments_lexer": "ipython3",
   "version": "3.12.4"
  }
 },
 "nbformat": 4,
 "nbformat_minor": 2
}
