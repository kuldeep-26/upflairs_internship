{
 "cells": [
  {
   "cell_type": "markdown",
   "metadata": {},
   "source": [
    "<h2>Numpy Library :-</h2>"
   ]
  },
  {
   "cell_type": "markdown",
   "metadata": {},
   "source": [
    "Numpy is a fundamental library for scientific computing in Python, widely used for its powerful features and capabilities. \n",
    "\n",
    "Numpy provides support for large, multi-dimensional arrays and matrices, along with a collection of mathematical functions to operate on these arrays.\n",
    "\n",
    "Numpy allows to perform arithmetic operations on arrays of different shapes and sizes without needing to explicitly reshape them. \n",
    "This makes code simpler and more intuitive.\n",
    "\n",
    "Many other scientific computing and data analysis libraries, such as SciPy, Pandas, Matplotlib, and Scikit-Learn, are built on top of NumPy arrays, \n",
    "ensuring compatibility and seamless integration.\n",
    "\n",
    "Numpy arrays consume less memory.\n",
    "\n",
    "Numpy includes functions for linear algebra operations, Fourier transforms, and random number generation, which are essential for many scientific and engineering applications."
   ]
  },
  {
   "cell_type": "code",
   "execution_count": 1,
   "metadata": {},
   "outputs": [],
   "source": [
    "# To Download numpy library => pip install numpy \n",
    "# Import the numpy library as np\n",
    "\n",
    "import numpy as np"
   ]
  },
  {
   "cell_type": "markdown",
   "metadata": {},
   "source": [
    "<h4>1-Dimension Array :-</h4>"
   ]
  },
  {
   "cell_type": "code",
   "execution_count": 3,
   "metadata": {},
   "outputs": [
    {
     "data": {
      "text/plain": [
       "array([34, 54, 65, 12, 76, 89])"
      ]
     },
     "execution_count": 3,
     "metadata": {},
     "output_type": "execute_result"
    }
   ],
   "source": [
    "# Creation of array 1D\n",
    "arr = np.array([34,54,65,12,76,89])\n",
    "arr"
   ]
  },
  {
   "cell_type": "code",
   "execution_count": 47,
   "metadata": {},
   "outputs": [
    {
     "data": {
      "text/plain": [
       "numpy.ndarray"
      ]
     },
     "execution_count": 47,
     "metadata": {},
     "output_type": "execute_result"
    }
   ],
   "source": [
    "type(arr) # ndarray => n dimensional array\n",
    "\n",
    "# type() - This function is used to determine the type of an object."
   ]
  },
  {
   "cell_type": "code",
   "execution_count": 48,
   "metadata": {},
   "outputs": [
    {
     "data": {
      "text/plain": [
       "dtype('int64')"
      ]
     },
     "execution_count": 48,
     "metadata": {},
     "output_type": "execute_result"
    }
   ],
   "source": [
    "arr.dtype\n",
    "# The dtype attribute of a Numpy array is used to determine the type of elements stored in the array."
   ]
  },
  {
   "cell_type": "code",
   "execution_count": 49,
   "metadata": {},
   "outputs": [
    {
     "data": {
      "text/plain": [
       "6"
      ]
     },
     "execution_count": 49,
     "metadata": {},
     "output_type": "execute_result"
    }
   ],
   "source": [
    "arr.size #  The size attribute of an array returns the total number of elements in the array"
   ]
  },
  {
   "cell_type": "code",
   "execution_count": 50,
   "metadata": {},
   "outputs": [
    {
     "data": {
      "text/plain": [
       "6"
      ]
     },
     "execution_count": 50,
     "metadata": {},
     "output_type": "execute_result"
    }
   ],
   "source": [
    "len(arr) # The len() function is a built-in Python function used to get the number of items in a container"
   ]
  },
  {
   "cell_type": "code",
   "execution_count": 51,
   "metadata": {},
   "outputs": [
    {
     "data": {
      "text/plain": [
       "1"
      ]
     },
     "execution_count": 51,
     "metadata": {},
     "output_type": "execute_result"
    }
   ],
   "source": [
    "arr.ndim # The ndim attribute is used to determine the number of dimensions of an array. "
   ]
  },
  {
   "cell_type": "markdown",
   "metadata": {},
   "source": [
    "<h5>Indexing in 1-D Array:-</h5>\n",
    "\n",
    "Indexing in a 1D Numpy array is similar to indexing in standard Python lists. "
   ]
  },
  {
   "cell_type": "code",
   "execution_count": 13,
   "metadata": {},
   "outputs": [
    {
     "name": "stdout",
     "output_type": "stream",
     "text": [
      "100\n",
      "300\n"
     ]
    }
   ],
   "source": [
    "# Creating a 1D NumPy array\n",
    "arr = np.array([100,200,300,400,500])\n",
    "\n",
    "# Accessing elements\n",
    "print(arr[0])  # Output: 1\n",
    "print(arr[2])  # Output: 3"
   ]
  },
  {
   "cell_type": "code",
   "execution_count": 14,
   "metadata": {},
   "outputs": [
    {
     "name": "stdout",
     "output_type": "stream",
     "text": [
      "[100  10 300 400 500]\n"
     ]
    }
   ],
   "source": [
    "# updating elements\n",
    "arr[1] = 10\n",
    "print(arr)  # Output: [1,10,3,4,5,6]"
   ]
  },
  {
   "cell_type": "code",
   "execution_count": 15,
   "metadata": {},
   "outputs": [
    {
     "name": "stdout",
     "output_type": "stream",
     "text": [
      "[ 10 300 400]\n",
      "[100  10 300]\n",
      "[100 300 500]\n",
      "[300 400 500]\n"
     ]
    }
   ],
   "source": [
    "# Accessing elements with starting and stopping index\n",
    "print(arr[1:4])  # Output: [ 10 300 400]\n",
    "print(arr[:3])   # Output: [100  10 300]\n",
    "print(arr[::2])  # Output: [100 300 500]\n",
    "print(arr[-3:])  # Output: [300 400 500]  (accessing with negative index)"
   ]
  },
  {
   "cell_type": "code",
   "execution_count": 17,
   "metadata": {},
   "outputs": [
    {
     "name": "stdout",
     "output_type": "stream",
     "text": [
      "[78 59 70 89 96 99 98 24 74 33 60 31 68 61 49 69 49 91 46 20 70 15 51 13\n",
      " 45  4 50 28 75  8 76 80 84 30 96 82  3 76 41 46 79 49 29 36 50 22 11 79\n",
      " 30 98 55 69 97 38 25 63 97 24 26 94 30 20 78  2 16 97 95 25 54 34 21 18\n",
      " 96 92 54 99 88  5  9 78 94 72 32 22 95 52 59 52 50 38 55 72 76 96 34 83\n",
      " 93 60 78 90 40  6 54 97 13 35  9 99 97 88 17 29  4 51 16 74 78 10 68 16\n",
      " 88 22 78 63 75 67 36 10 13 17 47 60 32 81 17 48 14 40 78 74 28 75 80 97\n",
      " 68 47 63 25 85 24 42 78 93 22 10 29 76  8 60 16 50 94 12 84 83 96 91 88\n",
      " 76 77 75 56 10 53 67 61 85 51 22  7 44 23 65 64 12 18 16 56 19 34  3 27\n",
      " 20 25 96 77 23 31 27 48]\n"
     ]
    }
   ],
   "source": [
    "# The numpy.random.randint() function in Numpy is used to generate random integers within a specified range.\n",
    "arr = np.random.randint(1,100,200)\n",
    "print(arr)"
   ]
  },
  {
   "cell_type": "markdown",
   "metadata": {},
   "source": [
    "<h4>2-Dimension Array :-</h4>\n",
    "\n",
    "2D arrays (also known as matrices) in NumPy is a common task in scientific computing and data analysis. \n",
    "\n",
    "NumPy provides a range of functionalities to create, manipulate, and perform operations on 2D arrays."
   ]
  },
  {
   "cell_type": "code",
   "execution_count": 3,
   "metadata": {},
   "outputs": [
    {
     "name": "stdout",
     "output_type": "stream",
     "text": [
      "[[10 20 30]\n",
      " [40 50 60]\n",
      " [70 80 90]]\n"
     ]
    }
   ],
   "source": [
    "# Creating a 2D NumPy array\n",
    "arr2d = np.array([[10, 20, 30], [40, 50, 60], [70, 80, 90]])\n",
    "print(arr2d)"
   ]
  },
  {
   "cell_type": "code",
   "execution_count": 4,
   "metadata": {},
   "outputs": [
    {
     "name": "stdout",
     "output_type": "stream",
     "text": [
      "Element at (0, 2): 30\n",
      "Element at (2, 0): 70\n"
     ]
    }
   ],
   "source": [
    "# Accessing elements\n",
    "print(\"Element at (0, 2):\", arr2d[0, 2])  # Output: 30\n",
    "print(\"Element at (2, 0):\", arr2d[2, 0])  # Output: 70"
   ]
  },
  {
   "cell_type": "code",
   "execution_count": 5,
   "metadata": {},
   "outputs": [
    {
     "name": "stdout",
     "output_type": "stream",
     "text": [
      "updating 2D Array:\n",
      "[[10 20 30]\n",
      " [40 50 10]\n",
      " [70 80 90]]\n"
     ]
    }
   ],
   "source": [
    "# updating elements\n",
    "arr2d[1, 2] = 10\n",
    "print(\"updating 2D Array:\")\n",
    "print(arr2d)"
   ]
  },
  {
   "cell_type": "code",
   "execution_count": 6,
   "metadata": {},
   "outputs": [
    {
     "name": "stdout",
     "output_type": "stream",
     "text": [
      "First two rows:\n",
      "[[10 20 30]\n",
      " [40 50 10]]\n"
     ]
    }
   ],
   "source": [
    "# Accessing rows\n",
    "print(\"First two rows:\")\n",
    "print(arr2d[:2])"
   ]
  },
  {
   "cell_type": "code",
   "execution_count": 7,
   "metadata": {},
   "outputs": [
    {
     "name": "stdout",
     "output_type": "stream",
     "text": [
      "First two columns:\n",
      "[[10 20]\n",
      " [40 50]\n",
      " [70 80]]\n"
     ]
    }
   ],
   "source": [
    "# Accessing columns\n",
    "print(\"First two columns:\")\n",
    "print(arr2d[:, :2])"
   ]
  },
  {
   "cell_type": "code",
   "execution_count": 8,
   "metadata": {},
   "outputs": [
    {
     "name": "stdout",
     "output_type": "stream",
     "text": [
      "Transposed Array:\n",
      "[[10 40 70]\n",
      " [20 50 80]\n",
      " [30 10 90]]\n"
     ]
    }
   ],
   "source": [
    "# Transposing the array\n",
    "print(\"Transposed Array:\")\n",
    "print(arr2d.T)"
   ]
  },
  {
   "cell_type": "code",
   "execution_count": 9,
   "metadata": {},
   "outputs": [
    {
     "name": "stdout",
     "output_type": "stream",
     "text": [
      "Sum of all elements: 400\n"
     ]
    }
   ],
   "source": [
    "# Summing all elements\n",
    "print(\"Sum of all elements:\", np.sum(arr2d))"
   ]
  },
  {
   "cell_type": "code",
   "execution_count": 10,
   "metadata": {},
   "outputs": [
    {
     "name": "stdout",
     "output_type": "stream",
     "text": [
      "Element-wise multiplication:\n",
      "[[ 20  40  60]\n",
      " [ 80 100  20]\n",
      " [140 160 180]]\n"
     ]
    }
   ],
   "source": [
    "# Element-wise operations\n",
    "print(\"Element-wise multiplication:\")\n",
    "print(arr2d * 2)"
   ]
  },
  {
   "cell_type": "code",
   "execution_count": 11,
   "metadata": {},
   "outputs": [
    {
     "name": "stdout",
     "output_type": "stream",
     "text": [
      "[[ 220  280]\n",
      " [ 240  340]\n",
      " [ 760 1000]]\n"
     ]
    }
   ],
   "source": [
    "# Matrix multiplication\n",
    "arr2d_2 = np.array([[1, 2], [3, 4], [5, 6]])\n",
    "print(np.dot(arr2d, arr2d_2))"
   ]
  },
  {
   "cell_type": "markdown",
   "metadata": {},
   "source": [
    "<h4>3-Dimension Array :-</h4>\n",
    "\n",
    "3-dimensional (3D) arrays in Numpy involves similar concepts to working with 2D arrays but adds an additional dimension for more complex data structures."
   ]
  },
  {
   "cell_type": "code",
   "execution_count": 16,
   "metadata": {},
   "outputs": [],
   "source": [
    "arr3 = np.random.randint(1,100,(3,4,3))"
   ]
  },
  {
   "cell_type": "code",
   "execution_count": 17,
   "metadata": {},
   "outputs": [
    {
     "data": {
      "text/plain": [
       "(3, 4, 3)"
      ]
     },
     "execution_count": 17,
     "metadata": {},
     "output_type": "execute_result"
    }
   ],
   "source": [
    "# The shape attribute of an array provides a tuple representing the dimensions of the array.\n",
    "\n",
    "arr3.shape # (table, row, column)"
   ]
  },
  {
   "cell_type": "code",
   "execution_count": 19,
   "metadata": {},
   "outputs": [
    {
     "name": "stdout",
     "output_type": "stream",
     "text": [
      "1\n",
      "12\n",
      "17\n"
     ]
    },
    {
     "data": {
      "text/plain": [
       "array([[[ 1,  2,  3],\n",
       "        [ 4,  5,  6]],\n",
       "\n",
       "       [[ 7,  8,  9],\n",
       "        [10, 11, 12]],\n",
       "\n",
       "       [[13, 14, 15],\n",
       "        [16, 17, 18]]])"
      ]
     },
     "execution_count": 19,
     "metadata": {},
     "output_type": "execute_result"
    }
   ],
   "source": [
    "# Creating a 3D Numpy array\n",
    "arr3d = np.array([[[1, 2, 3], [4, 5, 6]], \n",
    "                  [[7, 8, 9], [10, 11, 12]], \n",
    "                  [[13, 14, 15], [16, 17, 18]]])\n",
    "\n",
    "# Accessing specific elements\n",
    "print(arr3d[0, 0, 0])  # Output: 1\n",
    "print(arr3d[1, 1, 2])  # Output: 12\n",
    "print(arr3d[2, 1, 1])  # Output: 17\n",
    "arr3d"
   ]
  },
  {
   "cell_type": "markdown",
   "metadata": {},
   "source": [
    "<h3>Numpy Functions :-</h3>"
   ]
  },
  {
   "cell_type": "code",
   "execution_count": 68,
   "metadata": {},
   "outputs": [
    {
     "data": {
      "text/plain": [
       "array([0., 0., 0., 0., 0., 0., 0., 0., 0., 0.])"
      ]
     },
     "execution_count": 68,
     "metadata": {},
     "output_type": "execute_result"
    }
   ],
   "source": [
    "# The zeros() function in Numpy is used to create an array filled with zeros.\n",
    "\n",
    "arr = np.zeros(10)\n",
    "arr"
   ]
  },
  {
   "cell_type": "code",
   "execution_count": 32,
   "metadata": {},
   "outputs": [
    {
     "data": {
      "text/plain": [
       "array([[0., 0., 0., 0.],\n",
       "       [0., 0., 0., 0.],\n",
       "       [0., 0., 0., 0.],\n",
       "       [0., 0., 0., 0.],\n",
       "       [0., 0., 0., 0.]])"
      ]
     },
     "execution_count": 32,
     "metadata": {},
     "output_type": "execute_result"
    }
   ],
   "source": [
    "arr = np.zeros((5,4)) # 10 row 5 column with item = 0\n",
    "arr"
   ]
  },
  {
   "cell_type": "code",
   "execution_count": 31,
   "metadata": {},
   "outputs": [
    {
     "data": {
      "text/plain": [
       "array([[1., 1., 1., 1.],\n",
       "       [1., 1., 1., 1.],\n",
       "       [1., 1., 1., 1.],\n",
       "       [1., 1., 1., 1.],\n",
       "       [1., 1., 1., 1.]])"
      ]
     },
     "execution_count": 31,
     "metadata": {},
     "output_type": "execute_result"
    }
   ],
   "source": [
    "# The ones() function in Numpy is used to create an array filled with ones.\n",
    "\n",
    "arr = np.ones((5,4)) # 10 row 5 column with item = 1\n",
    "arr"
   ]
  },
  {
   "cell_type": "code",
   "execution_count": 71,
   "metadata": {},
   "outputs": [
    {
     "data": {
      "text/plain": [
       "array([0, 1, 2, 3, 4, 5, 6, 7, 8, 9])"
      ]
     },
     "execution_count": 71,
     "metadata": {},
     "output_type": "execute_result"
    }
   ],
   "source": [
    "# The arange() function in Numpy is used to create arrays with evenly spaced values within a specified range.\n",
    "# numpy.arange(start, stop, step)\n",
    "\n",
    "np.arange(10) # creates array from range 0-10\n",
    "# creates always 1D array"
   ]
  },
  {
   "cell_type": "code",
   "execution_count": 30,
   "metadata": {},
   "outputs": [
    {
     "data": {
      "text/plain": [
       "array([ 0,  1,  2,  3,  4,  5,  6,  7,  8,  9, 10, 11, 12, 13, 14, 15, 16,\n",
       "       17, 18, 19, 20, 21, 22, 23, 24, 25, 26, 27, 28, 29, 30, 31, 32, 33,\n",
       "       34, 35, 36, 37, 38, 39, 40, 41, 42, 43, 44, 45, 46, 47, 48, 49, 50,\n",
       "       51, 52, 53, 54, 55, 56, 57, 58, 59, 60, 61, 62, 63, 64, 65, 66, 67,\n",
       "       68, 69, 70, 71, 72, 73, 74, 75, 76, 77, 78, 79, 80, 81, 82, 83, 84,\n",
       "       85, 86, 87, 88, 89, 90, 91, 92, 93, 94, 95, 96, 97, 98, 99])"
      ]
     },
     "execution_count": 30,
     "metadata": {},
     "output_type": "execute_result"
    }
   ],
   "source": [
    "arr = np.arange(100)\n",
    "arr # 1D"
   ]
  },
  {
   "cell_type": "code",
   "execution_count": 32,
   "metadata": {},
   "outputs": [
    {
     "data": {
      "text/plain": [
       "array([[ 0,  1,  2,  3,  4,  5,  6,  7,  8,  9],\n",
       "       [10, 11, 12, 13, 14, 15, 16, 17, 18, 19],\n",
       "       [20, 21, 22, 23, 24, 25, 26, 27, 28, 29],\n",
       "       [30, 31, 32, 33, 34, 35, 36, 37, 38, 39],\n",
       "       [40, 41, 42, 43, 44, 45, 46, 47, 48, 49],\n",
       "       [50, 51, 52, 53, 54, 55, 56, 57, 58, 59],\n",
       "       [60, 61, 62, 63, 64, 65, 66, 67, 68, 69],\n",
       "       [70, 71, 72, 73, 74, 75, 76, 77, 78, 79],\n",
       "       [80, 81, 82, 83, 84, 85, 86, 87, 88, 89],\n",
       "       [90, 91, 92, 93, 94, 95, 96, 97, 98, 99]])"
      ]
     },
     "execution_count": 32,
     "metadata": {},
     "output_type": "execute_result"
    }
   ],
   "source": [
    "# The reshape() function in Numpy is used to change the shape of an existing array without modifying its data.\n",
    "arr = arr.reshape(10,10) # 1D --> 2D\n",
    "arr"
   ]
  },
  {
   "cell_type": "code",
   "execution_count": 33,
   "metadata": {},
   "outputs": [
    {
     "data": {
      "text/plain": [
       "np.int64(50)"
      ]
     },
     "execution_count": 33,
     "metadata": {},
     "output_type": "execute_result"
    }
   ],
   "source": [
    "arr = np.array([10,20,50,40])\n",
    "np.max(arr) # used to find the maximum value in an array."
   ]
  },
  {
   "cell_type": "code",
   "execution_count": 34,
   "metadata": {},
   "outputs": [
    {
     "data": {
      "text/plain": [
       "np.int64(10)"
      ]
     },
     "execution_count": 34,
     "metadata": {},
     "output_type": "execute_result"
    }
   ],
   "source": [
    "np.min(arr) # used to find the minimum value in an array."
   ]
  },
  {
   "cell_type": "code",
   "execution_count": 35,
   "metadata": {},
   "outputs": [
    {
     "data": {
      "text/plain": [
       "np.int64(120)"
      ]
     },
     "execution_count": 35,
     "metadata": {},
     "output_type": "execute_result"
    }
   ],
   "source": [
    "np.sum(arr) # used to compute the sum of array elements over a specified axis or the entire array."
   ]
  },
  {
   "cell_type": "code",
   "execution_count": 36,
   "metadata": {},
   "outputs": [
    {
     "data": {
      "text/plain": [
       "np.int64(0)"
      ]
     },
     "execution_count": 36,
     "metadata": {},
     "output_type": "execute_result"
    }
   ],
   "source": [
    "np.argmin(arr) # returns the index position of the minimum item"
   ]
  },
  {
   "cell_type": "code",
   "execution_count": 37,
   "metadata": {},
   "outputs": [
    {
     "data": {
      "text/plain": [
       "np.int64(2)"
      ]
     },
     "execution_count": 37,
     "metadata": {},
     "output_type": "execute_result"
    }
   ],
   "source": [
    "np.argmax(arr) # returns the index position of the maximum item"
   ]
  },
  {
   "cell_type": "code",
   "execution_count": 38,
   "metadata": {},
   "outputs": [
    {
     "data": {
      "text/plain": [
       "array([10, 20, 40, 50])"
      ]
     },
     "execution_count": 38,
     "metadata": {},
     "output_type": "execute_result"
    }
   ],
   "source": [
    "# used to sort elements of an array along a specified axis. It returns a sorted copy of the array.\n",
    "arr.sort() # Ascending order\n",
    "arr"
   ]
  },
  {
   "cell_type": "code",
   "execution_count": 39,
   "metadata": {},
   "outputs": [
    {
     "data": {
      "text/plain": [
       "array([50, 40, 20, 10])"
      ]
     },
     "execution_count": 39,
     "metadata": {},
     "output_type": "execute_result"
    }
   ],
   "source": [
    "arr[::-1] # Descending order"
   ]
  }
 ],
 "metadata": {
  "kernelspec": {
   "display_name": "Python 3",
   "language": "python",
   "name": "python3"
  },
  "language_info": {
   "codemirror_mode": {
    "name": "ipython",
    "version": 3
   },
   "file_extension": ".py",
   "mimetype": "text/x-python",
   "name": "python",
   "nbconvert_exporter": "python",
   "pygments_lexer": "ipython3",
   "version": "3.12.4"
  }
 },
 "nbformat": 4,
 "nbformat_minor": 2
}
